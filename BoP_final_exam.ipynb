{
  "nbformat": 4,
  "nbformat_minor": 0,
  "metadata": {
    "colab": {
      "provenance": []
    },
    "kernelspec": {
      "name": "python3",
      "display_name": "Python 3"
    },
    "language_info": {
      "name": "python"
    }
  },
  "cells": [
    {
      "cell_type": "markdown",
      "source": [
        "# BASICS OF PYTHON | SESSION 5\n",
        "\n",
        "---\n",
        "Sina Shafiezadeh | April 2023\n",
        "---\n"
      ],
      "metadata": {
        "id": "pS4-jYwD_U5v"
      }
    },
    {
      "cell_type": "markdown",
      "source": [
        "Please follow the next steps over the next 3 hours in order to complete your exam successfully:\n",
        "\n",
        "\n",
        "1. Download **Spotify Song Attributes** dataset from [HERE](https://www.kaggle.com/datasets/geomack/spotifyclassification).\n",
        "2. Import dataset in **Google Colab**.\n",
        "3. Overview dataset and define **one reasonable question**. An important point is to select a question that you will be able to implement statistical tests and plotting.\n",
        "4. **Preprocess** the dataset to start your analysis.\n",
        "5. Implement the **statistical models**.\n",
        "6. **Plot** your results.\n",
        "7. Set up your **GitHub** account. You can get help from this [LINK](https://docs.aws.amazon.com/codedeploy/latest/userguide/tutorials-github-create-github-account.html).\n",
        "8. Upload your code and results in a **repository**.\n",
        "9. Modify the repository title and description then **publish it**.\n",
        "10. **Send your public repository** to me by email (sina.shafiezadeh@studenti.unipd.it).\n"
      ],
      "metadata": {
        "id": "7b9YrJx24Wjo"
      }
    },
    {
      "cell_type": "markdown",
      "source": [
        "# 1.&nbsp;Data Importing"
      ],
      "metadata": {
        "id": "anY9j--Fj79Z"
      }
    },
    {
      "cell_type": "code",
      "source": [
        "# import packages\n",
        "import pandas as pd\n",
        "import numpy as np"
      ],
      "metadata": {
        "id": "9bYWUoe03v8p"
      },
      "execution_count": 56,
      "outputs": []
    },
    {
      "cell_type": "code",
      "source": [
        "data = pd.read_csv('data.csv')"
      ],
      "metadata": {
        "id": "8JBeMpi5uNHq"
      },
      "execution_count": 57,
      "outputs": []
    },
    {
      "cell_type": "markdown",
      "source": [
        "i want to know correlation between 'acousticness' and 'energy' and the top 10 artists and their songs with the most energy\n",
        "\n"
      ],
      "metadata": {
        "id": "oxXyI7AUwWpc"
      }
    },
    {
      "cell_type": "code",
      "source": [
        "print(data)"
      ],
      "metadata": {
        "colab": {
          "base_uri": "https://localhost:8080/"
        },
        "id": "fF10JNv4uT5Q",
        "outputId": "3777cd20-5152-4de0-f8c4-3a05ab66d8c0"
      },
      "execution_count": 58,
      "outputs": [
        {
          "output_type": "stream",
          "name": "stdout",
          "text": [
            "      Unnamed: 0  acousticness  danceability  duration_ms  energy  \\\n",
            "0              0       0.01020         0.833       204600   0.434   \n",
            "1              1       0.19900         0.743       326933   0.359   \n",
            "2              2       0.03440         0.838       185707   0.412   \n",
            "3              3       0.60400         0.494       199413   0.338   \n",
            "4              4       0.18000         0.678       392893   0.561   \n",
            "...          ...           ...           ...          ...     ...   \n",
            "2012        2012       0.00106         0.584       274404   0.932   \n",
            "2013        2013       0.08770         0.894       182182   0.892   \n",
            "2014        2014       0.00857         0.637       207200   0.935   \n",
            "2015        2015       0.00164         0.557       185600   0.992   \n",
            "2016        2016       0.00281         0.446       204520   0.915   \n",
            "\n",
            "      instrumentalness  key  liveness  loudness  mode  speechiness    tempo  \\\n",
            "0             0.021900    2    0.1650    -8.795     1       0.4310  150.062   \n",
            "1             0.006110    1    0.1370   -10.401     1       0.0794  160.083   \n",
            "2             0.000234    2    0.1590    -7.148     1       0.2890   75.044   \n",
            "3             0.510000    5    0.0922   -15.236     1       0.0261   86.468   \n",
            "4             0.512000    5    0.4390   -11.648     0       0.0694  174.004   \n",
            "...                ...  ...       ...       ...   ...          ...      ...   \n",
            "2012          0.002690    1    0.1290    -3.501     1       0.3330   74.976   \n",
            "2013          0.001670    1    0.0528    -2.663     1       0.1310  110.041   \n",
            "2014          0.003990    0    0.2140    -2.467     1       0.1070  150.082   \n",
            "2015          0.677000    1    0.0913    -2.735     1       0.1330  150.011   \n",
            "2016          0.000039    9    0.2180    -6.221     1       0.1410  190.013   \n",
            "\n",
            "      time_signature  valence  target                            song_title  \\\n",
            "0                4.0    0.286       1                              Mask Off   \n",
            "1                4.0    0.588       1                               Redbone   \n",
            "2                4.0    0.173       1                          Xanny Family   \n",
            "3                4.0    0.230       1                        Master Of None   \n",
            "4                4.0    0.904       1                        Parallel Lines   \n",
            "...              ...      ...     ...                                   ...   \n",
            "2012             4.0    0.211       0   Like A Bitch - Kill The Noise Remix   \n",
            "2013             4.0    0.867       0                                 Candy   \n",
            "2014             4.0    0.470       0  Habit - Dack Janiels & Wenzday Remix   \n",
            "2015             4.0    0.623       0                         First Contact   \n",
            "2016             4.0    0.402       0                    I Wanna Get Better   \n",
            "\n",
            "                artist  \n",
            "0               Future  \n",
            "1     Childish Gambino  \n",
            "2               Future  \n",
            "3          Beach House  \n",
            "4          Junior Boys  \n",
            "...                ...  \n",
            "2012    Kill The Noise  \n",
            "2013    Dillon Francis  \n",
            "2014          Rain Man  \n",
            "2015        Twin Moons  \n",
            "2016         Bleachers  \n",
            "\n",
            "[2017 rows x 17 columns]\n"
          ]
        }
      ]
    },
    {
      "cell_type": "code",
      "source": [
        "print(data.shape)"
      ],
      "metadata": {
        "colab": {
          "base_uri": "https://localhost:8080/"
        },
        "id": "Xld9ni9JuenA",
        "outputId": "3f6442a3-0239-4fed-d909-48bc89accece"
      },
      "execution_count": 59,
      "outputs": [
        {
          "output_type": "stream",
          "name": "stdout",
          "text": [
            "(2017, 17)\n"
          ]
        }
      ]
    },
    {
      "cell_type": "code",
      "source": [
        "print(data.info())"
      ],
      "metadata": {
        "colab": {
          "base_uri": "https://localhost:8080/"
        },
        "id": "gvzNY0h5ujhA",
        "outputId": "be36fd92-c633-429b-c700-741961efd7da"
      },
      "execution_count": 60,
      "outputs": [
        {
          "output_type": "stream",
          "name": "stdout",
          "text": [
            "<class 'pandas.core.frame.DataFrame'>\n",
            "RangeIndex: 2017 entries, 0 to 2016\n",
            "Data columns (total 17 columns):\n",
            " #   Column            Non-Null Count  Dtype  \n",
            "---  ------            --------------  -----  \n",
            " 0   Unnamed: 0        2017 non-null   int64  \n",
            " 1   acousticness      2017 non-null   float64\n",
            " 2   danceability      2017 non-null   float64\n",
            " 3   duration_ms       2017 non-null   int64  \n",
            " 4   energy            2017 non-null   float64\n",
            " 5   instrumentalness  2017 non-null   float64\n",
            " 6   key               2017 non-null   int64  \n",
            " 7   liveness          2017 non-null   float64\n",
            " 8   loudness          2017 non-null   float64\n",
            " 9   mode              2017 non-null   int64  \n",
            " 10  speechiness       2017 non-null   float64\n",
            " 11  tempo             2017 non-null   float64\n",
            " 12  time_signature    2017 non-null   float64\n",
            " 13  valence           2017 non-null   float64\n",
            " 14  target            2017 non-null   int64  \n",
            " 15  song_title        2017 non-null   object \n",
            " 16  artist            2017 non-null   object \n",
            "dtypes: float64(10), int64(5), object(2)\n",
            "memory usage: 268.0+ KB\n",
            "None\n"
          ]
        }
      ]
    },
    {
      "cell_type": "code",
      "source": [
        "print(data.describe())"
      ],
      "metadata": {
        "colab": {
          "base_uri": "https://localhost:8080/"
        },
        "id": "GWl9tUfQutjw",
        "outputId": "3cb72296-1eea-45ce-8523-9d509e5612c9"
      },
      "execution_count": 61,
      "outputs": [
        {
          "output_type": "stream",
          "name": "stdout",
          "text": [
            "        Unnamed: 0  acousticness  danceability   duration_ms       energy  \\\n",
            "count  2017.000000   2017.000000   2017.000000  2.017000e+03  2017.000000   \n",
            "mean   1008.000000      0.187590      0.618422  2.463062e+05     0.681577   \n",
            "std     582.402066      0.259989      0.161029  8.198181e+04     0.210273   \n",
            "min       0.000000      0.000003      0.122000  1.604200e+04     0.014800   \n",
            "25%     504.000000      0.009630      0.514000  2.000150e+05     0.563000   \n",
            "50%    1008.000000      0.063300      0.631000  2.292610e+05     0.715000   \n",
            "75%    1512.000000      0.265000      0.738000  2.703330e+05     0.846000   \n",
            "max    2016.000000      0.995000      0.984000  1.004627e+06     0.998000   \n",
            "\n",
            "       instrumentalness          key     liveness     loudness         mode  \\\n",
            "count       2017.000000  2017.000000  2017.000000  2017.000000  2017.000000   \n",
            "mean           0.133286     5.342588     0.190844    -7.085624     0.612295   \n",
            "std            0.273162     3.648240     0.155453     3.761684     0.487347   \n",
            "min            0.000000     0.000000     0.018800   -33.097000     0.000000   \n",
            "25%            0.000000     2.000000     0.092300    -8.394000     0.000000   \n",
            "50%            0.000076     6.000000     0.127000    -6.248000     1.000000   \n",
            "75%            0.054000     9.000000     0.247000    -4.746000     1.000000   \n",
            "max            0.976000    11.000000     0.969000    -0.307000     1.000000   \n",
            "\n",
            "       speechiness        tempo  time_signature      valence       target  \n",
            "count  2017.000000  2017.000000     2017.000000  2017.000000  2017.000000  \n",
            "mean      0.092664   121.603272        3.968270     0.496815     0.505702  \n",
            "std       0.089931    26.685604        0.255853     0.247195     0.500091  \n",
            "min       0.023100    47.859000        1.000000     0.034800     0.000000  \n",
            "25%       0.037500   100.189000        4.000000     0.295000     0.000000  \n",
            "50%       0.054900   121.427000        4.000000     0.492000     1.000000  \n",
            "75%       0.108000   137.849000        4.000000     0.691000     1.000000  \n",
            "max       0.816000   219.331000        5.000000     0.992000     1.000000  \n"
          ]
        }
      ]
    },
    {
      "cell_type": "markdown",
      "source": [
        "# 2.&nbsp;Data Cleaning (overview)"
      ],
      "metadata": {
        "id": "BbH5OJkwF1aW"
      }
    },
    {
      "cell_type": "code",
      "source": [
        "print(data['acousticness'].value_counts())\n",
        "print(\"================================\")\n",
        "print(data['energy'].value_counts())"
      ],
      "metadata": {
        "colab": {
          "base_uri": "https://localhost:8080/"
        },
        "id": "Vl118wf7wHwJ",
        "outputId": "6ef0cec9-3637-4aa6-c30a-a28f58ce67d4"
      },
      "execution_count": 62,
      "outputs": [
        {
          "output_type": "stream",
          "name": "stdout",
          "text": [
            "0.119000    8\n",
            "0.114000    6\n",
            "0.273000    6\n",
            "0.135000    6\n",
            "0.160000    6\n",
            "           ..\n",
            "0.000294    1\n",
            "0.009690    1\n",
            "0.000076    1\n",
            "0.041600    1\n",
            "0.008570    1\n",
            "Name: acousticness, Length: 1394, dtype: int64\n",
            "================================\n",
            "0.857    10\n",
            "0.657     9\n",
            "0.860     9\n",
            "0.770     9\n",
            "0.793     9\n",
            "         ..\n",
            "0.618     1\n",
            "0.726     1\n",
            "0.317     1\n",
            "0.994     1\n",
            "0.932     1\n",
            "Name: energy, Length: 719, dtype: int64\n"
          ]
        }
      ]
    },
    {
      "cell_type": "markdown",
      "source": [
        "# 3.&nbsp;Data Cleaning (interpretability)"
      ],
      "metadata": {
        "id": "5l-pYjWiy0TX"
      }
    },
    {
      "cell_type": "code",
      "source": [
        "data[\"energy\"] = data[\"energy\"].fillna(data[\"energy\"].mean())\n",
        "data.info()"
      ],
      "metadata": {
        "colab": {
          "base_uri": "https://localhost:8080/"
        },
        "id": "48YZZh7w4Au1",
        "outputId": "3b7036f5-2727-4ed4-dd0e-b886d3efc2ae"
      },
      "execution_count": 63,
      "outputs": [
        {
          "output_type": "stream",
          "name": "stdout",
          "text": [
            "<class 'pandas.core.frame.DataFrame'>\n",
            "RangeIndex: 2017 entries, 0 to 2016\n",
            "Data columns (total 17 columns):\n",
            " #   Column            Non-Null Count  Dtype  \n",
            "---  ------            --------------  -----  \n",
            " 0   Unnamed: 0        2017 non-null   int64  \n",
            " 1   acousticness      2017 non-null   float64\n",
            " 2   danceability      2017 non-null   float64\n",
            " 3   duration_ms       2017 non-null   int64  \n",
            " 4   energy            2017 non-null   float64\n",
            " 5   instrumentalness  2017 non-null   float64\n",
            " 6   key               2017 non-null   int64  \n",
            " 7   liveness          2017 non-null   float64\n",
            " 8   loudness          2017 non-null   float64\n",
            " 9   mode              2017 non-null   int64  \n",
            " 10  speechiness       2017 non-null   float64\n",
            " 11  tempo             2017 non-null   float64\n",
            " 12  time_signature    2017 non-null   float64\n",
            " 13  valence           2017 non-null   float64\n",
            " 14  target            2017 non-null   int64  \n",
            " 15  song_title        2017 non-null   object \n",
            " 16  artist            2017 non-null   object \n",
            "dtypes: float64(10), int64(5), object(2)\n",
            "memory usage: 268.0+ KB\n"
          ]
        }
      ]
    },
    {
      "cell_type": "code",
      "source": [
        "data[\"acousticness\"] = data[\"acousticness\"].fillna(data[\"acousticness\"].mean())\n",
        "data.info()"
      ],
      "metadata": {
        "colab": {
          "base_uri": "https://localhost:8080/"
        },
        "id": "tXoj4Lm94CyU",
        "outputId": "120e54b0-56bc-4014-dc41-3408d54bd88a"
      },
      "execution_count": 64,
      "outputs": [
        {
          "output_type": "stream",
          "name": "stdout",
          "text": [
            "<class 'pandas.core.frame.DataFrame'>\n",
            "RangeIndex: 2017 entries, 0 to 2016\n",
            "Data columns (total 17 columns):\n",
            " #   Column            Non-Null Count  Dtype  \n",
            "---  ------            --------------  -----  \n",
            " 0   Unnamed: 0        2017 non-null   int64  \n",
            " 1   acousticness      2017 non-null   float64\n",
            " 2   danceability      2017 non-null   float64\n",
            " 3   duration_ms       2017 non-null   int64  \n",
            " 4   energy            2017 non-null   float64\n",
            " 5   instrumentalness  2017 non-null   float64\n",
            " 6   key               2017 non-null   int64  \n",
            " 7   liveness          2017 non-null   float64\n",
            " 8   loudness          2017 non-null   float64\n",
            " 9   mode              2017 non-null   int64  \n",
            " 10  speechiness       2017 non-null   float64\n",
            " 11  tempo             2017 non-null   float64\n",
            " 12  time_signature    2017 non-null   float64\n",
            " 13  valence           2017 non-null   float64\n",
            " 14  target            2017 non-null   int64  \n",
            " 15  song_title        2017 non-null   object \n",
            " 16  artist            2017 non-null   object \n",
            "dtypes: float64(10), int64(5), object(2)\n",
            "memory usage: 268.0+ KB\n"
          ]
        }
      ]
    },
    {
      "cell_type": "markdown",
      "source": [
        "# 4.&nbsp;Data Cleaning (reduction)"
      ],
      "metadata": {
        "id": "LDCm_efBzFJL"
      }
    },
    {
      "cell_type": "code",
      "source": [
        "new_data = data[['acousticness', 'energy']] \n",
        "print(new_data)"
      ],
      "metadata": {
        "colab": {
          "base_uri": "https://localhost:8080/"
        },
        "id": "Wku6m4ES0loJ",
        "outputId": "cd6e0ada-980a-4594-ff9b-f2e3b670c56e"
      },
      "execution_count": 65,
      "outputs": [
        {
          "output_type": "stream",
          "name": "stdout",
          "text": [
            "      acousticness  energy\n",
            "0          0.01020   0.434\n",
            "1          0.19900   0.359\n",
            "2          0.03440   0.412\n",
            "3          0.60400   0.338\n",
            "4          0.18000   0.561\n",
            "...            ...     ...\n",
            "2012       0.00106   0.932\n",
            "2013       0.08770   0.892\n",
            "2014       0.00857   0.935\n",
            "2015       0.00164   0.992\n",
            "2016       0.00281   0.915\n",
            "\n",
            "[2017 rows x 2 columns]\n"
          ]
        }
      ]
    },
    {
      "cell_type": "markdown",
      "source": [
        "# 5.&nbsp;Data Cleaning (noisy data)"
      ],
      "metadata": {
        "id": "Stxl8ESOzYRP"
      }
    },
    {
      "cell_type": "code",
      "source": [],
      "metadata": {
        "id": "WjlpDiO83x-c"
      },
      "execution_count": null,
      "outputs": []
    },
    {
      "cell_type": "markdown",
      "source": [
        "# 6.&nbsp;Data Cleaning (completeness)"
      ],
      "metadata": {
        "id": "iwrKQarlxh2r"
      }
    },
    {
      "cell_type": "code",
      "source": [],
      "metadata": {
        "id": "frO1h4yZ3yeG"
      },
      "execution_count": null,
      "outputs": []
    },
    {
      "cell_type": "markdown",
      "source": [
        "# 7.&nbsp;Data Exploring\n"
      ],
      "metadata": {
        "id": "fD30B1eeF8QF"
      }
    },
    {
      "cell_type": "code",
      "source": [
        "new_data.corr()  #there is a negative correlation between 'acousticness' and 'energy'"
      ],
      "metadata": {
        "id": "t9m96Nxd3w38",
        "colab": {
          "base_uri": "https://localhost:8080/",
          "height": 112
        },
        "outputId": "b8badeb1-90b3-4d50-bfe0-4be1d30f74ab"
      },
      "execution_count": 66,
      "outputs": [
        {
          "output_type": "execute_result",
          "data": {
            "text/plain": [
              "              acousticness    energy\n",
              "acousticness      1.000000 -0.646319\n",
              "energy           -0.646319  1.000000"
            ],
            "text/html": [
              "\n",
              "  <div id=\"df-cbed76cb-561c-488f-8f75-6629eb89a567\">\n",
              "    <div class=\"colab-df-container\">\n",
              "      <div>\n",
              "<style scoped>\n",
              "    .dataframe tbody tr th:only-of-type {\n",
              "        vertical-align: middle;\n",
              "    }\n",
              "\n",
              "    .dataframe tbody tr th {\n",
              "        vertical-align: top;\n",
              "    }\n",
              "\n",
              "    .dataframe thead th {\n",
              "        text-align: right;\n",
              "    }\n",
              "</style>\n",
              "<table border=\"1\" class=\"dataframe\">\n",
              "  <thead>\n",
              "    <tr style=\"text-align: right;\">\n",
              "      <th></th>\n",
              "      <th>acousticness</th>\n",
              "      <th>energy</th>\n",
              "    </tr>\n",
              "  </thead>\n",
              "  <tbody>\n",
              "    <tr>\n",
              "      <th>acousticness</th>\n",
              "      <td>1.000000</td>\n",
              "      <td>-0.646319</td>\n",
              "    </tr>\n",
              "    <tr>\n",
              "      <th>energy</th>\n",
              "      <td>-0.646319</td>\n",
              "      <td>1.000000</td>\n",
              "    </tr>\n",
              "  </tbody>\n",
              "</table>\n",
              "</div>\n",
              "      <button class=\"colab-df-convert\" onclick=\"convertToInteractive('df-cbed76cb-561c-488f-8f75-6629eb89a567')\"\n",
              "              title=\"Convert this dataframe to an interactive table.\"\n",
              "              style=\"display:none;\">\n",
              "        \n",
              "  <svg xmlns=\"http://www.w3.org/2000/svg\" height=\"24px\"viewBox=\"0 0 24 24\"\n",
              "       width=\"24px\">\n",
              "    <path d=\"M0 0h24v24H0V0z\" fill=\"none\"/>\n",
              "    <path d=\"M18.56 5.44l.94 2.06.94-2.06 2.06-.94-2.06-.94-.94-2.06-.94 2.06-2.06.94zm-11 1L8.5 8.5l.94-2.06 2.06-.94-2.06-.94L8.5 2.5l-.94 2.06-2.06.94zm10 10l.94 2.06.94-2.06 2.06-.94-2.06-.94-.94-2.06-.94 2.06-2.06.94z\"/><path d=\"M17.41 7.96l-1.37-1.37c-.4-.4-.92-.59-1.43-.59-.52 0-1.04.2-1.43.59L10.3 9.45l-7.72 7.72c-.78.78-.78 2.05 0 2.83L4 21.41c.39.39.9.59 1.41.59.51 0 1.02-.2 1.41-.59l7.78-7.78 2.81-2.81c.8-.78.8-2.07 0-2.86zM5.41 20L4 18.59l7.72-7.72 1.47 1.35L5.41 20z\"/>\n",
              "  </svg>\n",
              "      </button>\n",
              "      \n",
              "  <style>\n",
              "    .colab-df-container {\n",
              "      display:flex;\n",
              "      flex-wrap:wrap;\n",
              "      gap: 12px;\n",
              "    }\n",
              "\n",
              "    .colab-df-convert {\n",
              "      background-color: #E8F0FE;\n",
              "      border: none;\n",
              "      border-radius: 50%;\n",
              "      cursor: pointer;\n",
              "      display: none;\n",
              "      fill: #1967D2;\n",
              "      height: 32px;\n",
              "      padding: 0 0 0 0;\n",
              "      width: 32px;\n",
              "    }\n",
              "\n",
              "    .colab-df-convert:hover {\n",
              "      background-color: #E2EBFA;\n",
              "      box-shadow: 0px 1px 2px rgba(60, 64, 67, 0.3), 0px 1px 3px 1px rgba(60, 64, 67, 0.15);\n",
              "      fill: #174EA6;\n",
              "    }\n",
              "\n",
              "    [theme=dark] .colab-df-convert {\n",
              "      background-color: #3B4455;\n",
              "      fill: #D2E3FC;\n",
              "    }\n",
              "\n",
              "    [theme=dark] .colab-df-convert:hover {\n",
              "      background-color: #434B5C;\n",
              "      box-shadow: 0px 1px 3px 1px rgba(0, 0, 0, 0.15);\n",
              "      filter: drop-shadow(0px 1px 2px rgba(0, 0, 0, 0.3));\n",
              "      fill: #FFFFFF;\n",
              "    }\n",
              "  </style>\n",
              "\n",
              "      <script>\n",
              "        const buttonEl =\n",
              "          document.querySelector('#df-cbed76cb-561c-488f-8f75-6629eb89a567 button.colab-df-convert');\n",
              "        buttonEl.style.display =\n",
              "          google.colab.kernel.accessAllowed ? 'block' : 'none';\n",
              "\n",
              "        async function convertToInteractive(key) {\n",
              "          const element = document.querySelector('#df-cbed76cb-561c-488f-8f75-6629eb89a567');\n",
              "          const dataTable =\n",
              "            await google.colab.kernel.invokeFunction('convertToInteractive',\n",
              "                                                     [key], {});\n",
              "          if (!dataTable) return;\n",
              "\n",
              "          const docLinkHtml = 'Like what you see? Visit the ' +\n",
              "            '<a target=\"_blank\" href=https://colab.research.google.com/notebooks/data_table.ipynb>data table notebook</a>'\n",
              "            + ' to learn more about interactive tables.';\n",
              "          element.innerHTML = '';\n",
              "          dataTable['output_type'] = 'display_data';\n",
              "          await google.colab.output.renderOutput(dataTable, element);\n",
              "          const docLink = document.createElement('div');\n",
              "          docLink.innerHTML = docLinkHtml;\n",
              "          element.appendChild(docLink);\n",
              "        }\n",
              "      </script>\n",
              "    </div>\n",
              "  </div>\n",
              "  "
            ]
          },
          "metadata": {},
          "execution_count": 66
        }
      ]
    },
    {
      "cell_type": "code",
      "source": [],
      "metadata": {
        "id": "8UZ0AA1n_I-M"
      },
      "execution_count": null,
      "outputs": []
    },
    {
      "cell_type": "markdown",
      "source": [
        "# 8.&nbsp;Data Analysis"
      ],
      "metadata": {
        "id": "L5CGhoqnGJxO"
      }
    },
    {
      "cell_type": "markdown",
      "source": [
        "# 9.&nbsp;Data Visualization"
      ],
      "metadata": {
        "id": "KbsOltGkGhEr"
      }
    },
    {
      "cell_type": "code",
      "source": [
        "import matplotlib.pyplot as plt\n",
        "\n",
        "subset_data = data.sample(frac=0.1) # Select a random 10% sample of the data\n",
        "\n",
        "x = subset_data[\"acousticness\"]\n",
        " \n",
        "y = subset_data[\"energy\"]\n",
        "  \n",
        "plt.scatter(x, y, c =\"pink\",\n",
        "            linewidths = 1,\n",
        "            marker =\"s\",   \n",
        "            edgecolor =\"purple\",\n",
        "            s = 50)\n",
        " \n",
        "plt.xlabel(\"acousticness\",fontsize=12)\n",
        "plt.ylabel(\"energy\",fontsize=12)\n",
        "plt.title(\"data\",fontsize=12)\n",
        "plt.show()\n",
        "\n",
        "# there is probably a relationship between the variables, but it may be non-linear"
      ],
      "metadata": {
        "id": "G8unODVm3z7f",
        "colab": {
          "base_uri": "https://localhost:8080/",
          "height": 476
        },
        "outputId": "0433bcab-9c4e-4011-f364-a317bd565f9c"
      },
      "execution_count": 67,
      "outputs": [
        {
          "output_type": "display_data",
          "data": {
            "text/plain": [
              "<Figure size 640x480 with 1 Axes>"
            ],
            "image/png": "[encoded data removed]"
          },
          "metadata": {}
        }
      ]
    },
    {
      "cell_type": "code",
      "source": [
        "top10_artists_energy = data[[\"energy\",\"song_title\",\"artist\"]].sort_values(by=\"energy\",ascending=False)[:10]\n",
        "top10_artists_energy  #i want to know the top 10 artists and their songs with the most energy\n"
      ],
      "metadata": {
        "id": "SFugLB7H3zAz",
        "colab": {
          "base_uri": "https://localhost:8080/",
          "height": 363
        },
        "outputId": "4037ecd5-dba4-4ed4-bd91-594a35fd28e4"
      },
      "execution_count": 68,
      "outputs": [
        {
          "output_type": "execute_result",
          "data": {
            "text/plain": [
              "      energy           song_title                    artist\n",
              "1299   0.998        No Absolution         Thy Art Is Murder\n",
              "1322   0.997           Pitchblack  Walking Dead On Broadway\n",
              "1297   0.994    A Darkened Gospel      A Wake in Providence\n",
              "1347   0.993           Unanswered           Suicide Silence\n",
              "2015   0.992        First Contact                Twin Moons\n",
              "1680   0.992             Paranoia         A Day To Remember\n",
              "1332   0.992      Beautiful Agony          Within The Ruins\n",
              "1328   0.991  Down into the Abyss               Conjonctive\n",
              "1681   0.990                Hated                 Beartooth\n",
              "1296   0.990         Black Colors       Victim Of Deception"
            ],
            "text/html": [
              "\n",
              "  <div id=\"df-e5476a8f-6bc0-4ba4-907c-2a708f7f0ebe\">\n",
              "    <div class=\"colab-df-container\">\n",
              "      <div>\n",
              "<style scoped>\n",
              "    .dataframe tbody tr th:only-of-type {\n",
              "        vertical-align: middle;\n",
              "    }\n",
              "\n",
              "    .dataframe tbody tr th {\n",
              "        vertical-align: top;\n",
              "    }\n",
              "\n",
              "    .dataframe thead th {\n",
              "        text-align: right;\n",
              "    }\n",
              "</style>\n",
              "<table border=\"1\" class=\"dataframe\">\n",
              "  <thead>\n",
              "    <tr style=\"text-align: right;\">\n",
              "      <th></th>\n",
              "      <th>energy</th>\n",
              "      <th>song_title</th>\n",
              "      <th>artist</th>\n",
              "    </tr>\n",
              "  </thead>\n",
              "  <tbody>\n",
              "    <tr>\n",
              "      <th>1299</th>\n",
              "      <td>0.998</td>\n",
              "      <td>No Absolution</td>\n",
              "      <td>Thy Art Is Murder</td>\n",
              "    </tr>\n",
              "    <tr>\n",
              "      <th>1322</th>\n",
              "      <td>0.997</td>\n",
              "      <td>Pitchblack</td>\n",
              "      <td>Walking Dead On Broadway</td>\n",
              "    </tr>\n",
              "    <tr>\n",
              "      <th>1297</th>\n",
              "      <td>0.994</td>\n",
              "      <td>A Darkened Gospel</td>\n",
              "      <td>A Wake in Providence</td>\n",
              "    </tr>\n",
              "    <tr>\n",
              "      <th>1347</th>\n",
              "      <td>0.993</td>\n",
              "      <td>Unanswered</td>\n",
              "      <td>Suicide Silence</td>\n",
              "    </tr>\n",
              "    <tr>\n",
              "      <th>2015</th>\n",
              "      <td>0.992</td>\n",
              "      <td>First Contact</td>\n",
              "      <td>Twin Moons</td>\n",
              "    </tr>\n",
              "    <tr>\n",
              "      <th>1680</th>\n",
              "      <td>0.992</td>\n",
              "      <td>Paranoia</td>\n",
              "      <td>A Day To Remember</td>\n",
              "    </tr>\n",
              "    <tr>\n",
              "      <th>1332</th>\n",
              "      <td>0.992</td>\n",
              "      <td>Beautiful Agony</td>\n",
              "      <td>Within The Ruins</td>\n",
              "    </tr>\n",
              "    <tr>\n",
              "      <th>1328</th>\n",
              "      <td>0.991</td>\n",
              "      <td>Down into the Abyss</td>\n",
              "      <td>Conjonctive</td>\n",
              "    </tr>\n",
              "    <tr>\n",
              "      <th>1681</th>\n",
              "      <td>0.990</td>\n",
              "      <td>Hated</td>\n",
              "      <td>Beartooth</td>\n",
              "    </tr>\n",
              "    <tr>\n",
              "      <th>1296</th>\n",
              "      <td>0.990</td>\n",
              "      <td>Black Colors</td>\n",
              "      <td>Victim Of Deception</td>\n",
              "    </tr>\n",
              "  </tbody>\n",
              "</table>\n",
              "</div>\n",
              "      <button class=\"colab-df-convert\" onclick=\"convertToInteractive('df-e5476a8f-6bc0-4ba4-907c-2a708f7f0ebe')\"\n",
              "              title=\"Convert this dataframe to an interactive table.\"\n",
              "              style=\"display:none;\">\n",
              "        \n",
              "  <svg xmlns=\"http://www.w3.org/2000/svg\" height=\"24px\"viewBox=\"0 0 24 24\"\n",
              "       width=\"24px\">\n",
              "    <path d=\"M0 0h24v24H0V0z\" fill=\"none\"/>\n",
              "    <path d=\"M18.56 5.44l.94 2.06.94-2.06 2.06-.94-2.06-.94-.94-2.06-.94 2.06-2.06.94zm-11 1L8.5 8.5l.94-2.06 2.06-.94-2.06-.94L8.5 2.5l-.94 2.06-2.06.94zm10 10l.94 2.06.94-2.06 2.06-.94-2.06-.94-.94-2.06-.94 2.06-2.06.94z\"/><path d=\"M17.41 7.96l-1.37-1.37c-.4-.4-.92-.59-1.43-.59-.52 0-1.04.2-1.43.59L10.3 9.45l-7.72 7.72c-.78.78-.78 2.05 0 2.83L4 21.41c.39.39.9.59 1.41.59.51 0 1.02-.2 1.41-.59l7.78-7.78 2.81-2.81c.8-.78.8-2.07 0-2.86zM5.41 20L4 18.59l7.72-7.72 1.47 1.35L5.41 20z\"/>\n",
              "  </svg>\n",
              "      </button>\n",
              "      \n",
              "  <style>\n",
              "    .colab-df-container {\n",
              "      display:flex;\n",
              "      flex-wrap:wrap;\n",
              "      gap: 12px;\n",
              "    }\n",
              "\n",
              "    .colab-df-convert {\n",
              "      background-color: #E8F0FE;\n",
              "      border: none;\n",
              "      border-radius: 50%;\n",
              "      cursor: pointer;\n",
              "      display: none;\n",
              "      fill: #1967D2;\n",
              "      height: 32px;\n",
              "      padding: 0 0 0 0;\n",
              "      width: 32px;\n",
              "    }\n",
              "\n",
              "    .colab-df-convert:hover {\n",
              "      background-color: #E2EBFA;\n",
              "      box-shadow: 0px 1px 2px rgba(60, 64, 67, 0.3), 0px 1px 3px 1px rgba(60, 64, 67, 0.15);\n",
              "      fill: #174EA6;\n",
              "    }\n",
              "\n",
              "    [theme=dark] .colab-df-convert {\n",
              "      background-color: #3B4455;\n",
              "      fill: #D2E3FC;\n",
              "    }\n",
              "\n",
              "    [theme=dark] .colab-df-convert:hover {\n",
              "      background-color: #434B5C;\n",
              "      box-shadow: 0px 1px 3px 1px rgba(0, 0, 0, 0.15);\n",
              "      filter: drop-shadow(0px 1px 2px rgba(0, 0, 0, 0.3));\n",
              "      fill: #FFFFFF;\n",
              "    }\n",
              "  </style>\n",
              "\n",
              "      <script>\n",
              "        const buttonEl =\n",
              "          document.querySelector('#df-e5476a8f-6bc0-4ba4-907c-2a708f7f0ebe button.colab-df-convert');\n",
              "        buttonEl.style.display =\n",
              "          google.colab.kernel.accessAllowed ? 'block' : 'none';\n",
              "\n",
              "        async function convertToInteractive(key) {\n",
              "          const element = document.querySelector('#df-e5476a8f-6bc0-4ba4-907c-2a708f7f0ebe');\n",
              "          const dataTable =\n",
              "            await google.colab.kernel.invokeFunction('convertToInteractive',\n",
              "                                                     [key], {});\n",
              "          if (!dataTable) return;\n",
              "\n",
              "          const docLinkHtml = 'Like what you see? Visit the ' +\n",
              "            '<a target=\"_blank\" href=https://colab.research.google.com/notebooks/data_table.ipynb>data table notebook</a>'\n",
              "            + ' to learn more about interactive tables.';\n",
              "          element.innerHTML = '';\n",
              "          dataTable['output_type'] = 'display_data';\n",
              "          await google.colab.output.renderOutput(dataTable, element);\n",
              "          const docLink = document.createElement('div');\n",
              "          docLink.innerHTML = docLinkHtml;\n",
              "          element.appendChild(docLink);\n",
              "        }\n",
              "      </script>\n",
              "    </div>\n",
              "  </div>\n",
              "  "
            ]
          },
          "metadata": {},
          "execution_count": 68
        }
      ]
    },
    {
      "cell_type": "markdown",
      "source": [
        "# 10.&nbsp;Data Exporting"
      ],
      "metadata": {
        "id": "TnNFwTuHGmRS"
      }
    }
  ]
}
